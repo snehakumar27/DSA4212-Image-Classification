{
  "cells": [
    {
      "cell_type": "markdown",
      "metadata": {
        "id": "s-IFEMYPQKnI"
      },
      "source": [
        "## Import"
      ]
    },
    {
      "cell_type": "markdown",
      "source": [
        "Packages used in this notebook are imported."
      ],
      "metadata": {
        "id": "Edvlaw-v40zu"
      }
    },
    {
      "cell_type": "code",
      "execution_count": null,
      "metadata": {
        "id": "9NJnX4ym2CTS"
      },
      "outputs": [],
      "source": [
        "#dataframes and arrays \n",
        "import pandas as pd \n",
        "import numpy as np\n",
        "\n",
        "#plotting \n",
        "import matplotlib.pyplot as plt\n",
        "\n",
        "#building & fitting the model \n",
        "import tensorflow as tf \n",
        "from tensorflow.keras import layers \n",
        "from tensorflow.keras.models import Sequential \n",
        "import jax\n",
        "\n",
        "#fine tuning\n",
        "from tensorflow.keras.callbacks import LearningRateScheduler\n",
        "\n",
        "#miscellanous \n",
        "import math \n",
        "import time"
      ]
    },
    {
      "cell_type": "code",
      "execution_count": null,
      "metadata": {
        "colab": {
          "base_uri": "https://localhost:8080/"
        },
        "id": "Xwd3VayqQB-E",
        "outputId": "2b3eb43e-6c15-4230-f5c2-60314075dae4"
      },
      "outputs": [
        {
          "output_type": "stream",
          "name": "stdout",
          "text": [
            "2.11.0\n"
          ]
        }
      ],
      "source": [
        "tf.keras.backend.clear_session()    #clear out any unnecessary memory by clearing unused layers/models\n",
        "print(tf.__version__)     #check tensorflow version"
      ]
    },
    {
      "cell_type": "markdown",
      "metadata": {
        "id": "f8Zxc6skQMdH"
      },
      "source": [
        "## Data\n"
      ]
    },
    {
      "cell_type": "markdown",
      "source": [
        "First, the dataset is loaded into the workspace"
      ],
      "metadata": {
        "id": "bsLJWkK147rR"
      }
    },
    {
      "cell_type": "code",
      "execution_count": null,
      "metadata": {
        "colab": {
          "base_uri": "https://localhost:8080/"
        },
        "id": "_LaVd2yi5XGe",
        "outputId": "94cc272c-4384-4bcf-bcfb-298d4f6eef45"
      },
      "outputs": [
        {
          "output_type": "stream",
          "name": "stdout",
          "text": [
            "Mounted at /content/drive\n"
          ]
        }
      ],
      "source": [
        "#mount Google Drive\n",
        "from google.colab import drive\n",
        "drive.mount(\"/content/drive\")"
      ]
    },
    {
      "cell_type": "code",
      "execution_count": null,
      "metadata": {
        "id": "b_sUn9d87VZ2",
        "colab": {
          "base_uri": "https://localhost:8080/"
        },
        "outputId": "038c9a21-46b5-4631-edb1-61a828eb146d"
      },
      "outputs": [
        {
          "output_type": "stream",
          "name": "stdout",
          "text": [
            "/content/drive/MyDrive/dataset/DSA4212/assignment_1\n"
          ]
        }
      ],
      "source": [
        "#set the working directory to where the data is stored\n",
        "%cd /content/drive/MyDrive/dataset/DSA4212/assignment_1"
      ]
    },
    {
      "cell_type": "code",
      "execution_count": null,
      "metadata": {
        "id": "8b2efbfc-d4e6-41c7-89cd-a7127c9f1538"
      },
      "outputs": [],
      "source": [
        "class_names=[\"fish\", \"dog\", \"device\", \"chainsaw\", \"church\", \"horn\", \"truck\", \"petrol\", \"golf\", \"parachute\"]\n",
        "\n",
        "# load data -- be patient, does take a few secs\n",
        "data_train_all = np.load(\"assignment_1_train.npz\")\n",
        "data_test = np.load(\"assignment_1_test.npz\")\n",
        "\n",
        "train_size = data_train_all[\"img\"].shape[0]           #size of initial training dataset is store (to help in train-validation split later) \n",
        "\n",
        "#labels converted to integer for one-hot encoding \n",
        "Y_train_all = data_train_all[\"label\"].astype(int)\n",
        "Y_test = data_test[\"label\"].astype(int)"
      ]
    },
    {
      "cell_type": "markdown",
      "source": [
        "The class labels are one-hot encoded in order to be able to apply label smoothing later."
      ],
      "metadata": {
        "id": "ccgaGjm2Ome6"
      }
    },
    {
      "cell_type": "code",
      "source": [
        "Y_train = jax.nn.one_hot(Y_train_all,10)\n",
        "Y_test = jax.nn.one_hot(Y_test,10)"
      ],
      "metadata": {
        "id": "TNwZGCQC1gb0"
      },
      "execution_count": null,
      "outputs": []
    },
    {
      "cell_type": "markdown",
      "source": [
        "Initial training data is split the training data into training and validation data, both of which are read into TensorFlow batches.\n"
      ],
      "metadata": {
        "id": "FS-b1vO5RPKt"
      }
    },
    {
      "cell_type": "code",
      "execution_count": null,
      "metadata": {
        "id": "QeYD0MIWSOoI"
      },
      "outputs": [],
      "source": [
        "train_ds = tf.data.Dataset.from_tensor_slices((data_train_all[\"img\"], Y_train))\n",
        "test_ds = tf.data.Dataset.from_tensor_slices((data_test[\"img\"], Y_test))\n",
        "\n",
        "#shuffle the data and take 20% of training data as validation\n",
        "train_ds = train_ds.shuffle(train_size, reshuffle_each_iteration = False)\n",
        "val_ds = train_ds.take(train_size//5)\n",
        "train_ds = train_ds.skip(train_size//5)\n",
        "\n",
        "train_ds = train_ds.batch(32)\n",
        "val_ds = val_ds.batch(32)\n",
        "test_ds = test_ds.batch(32)"
      ]
    },
    {
      "cell_type": "markdown",
      "source": [
        "Allow prefetching so that while the previous batch is being trained, the next batch is parallely read into the model, reducing the overall training time. "
      ],
      "metadata": {
        "id": "aMXXY95-Rxvm"
      }
    },
    {
      "cell_type": "code",
      "source": [
        "AUTOTUNE = tf.data.AUTOTUNE\n",
        "train_ds = train_ds.cache().shuffle(9999).prefetch(buffer_size=AUTOTUNE)\n",
        "val_ds = val_ds.cache().prefetch(buffer_size=AUTOTUNE)"
      ],
      "metadata": {
        "id": "3_aW5nA1SOoJ"
      },
      "execution_count": null,
      "outputs": []
    },
    {
      "cell_type": "markdown",
      "source": [
        "# Functions\n",
        "A function plot_accuracy_loss is defined to visualise our model accuracy and loss later.\n",
        "\n",
        "\n"
      ],
      "metadata": {
        "id": "kQNtYCeKz_5k"
      }
    },
    {
      "cell_type": "code",
      "source": [
        "plt.style.use('ggplot')\n",
        "def plot_accuracy_loss(fit_history): \n",
        "  #extract the training and validation accuracy values\n",
        "  train_acc = fit_history.history['accuracy']\n",
        "  val_acc = fit_history.history['val_accuracy']\n",
        "\n",
        "  #extract the training and validation loss values\n",
        "  train_loss = fit_history.history['loss']\n",
        "  val_loss = fit_history.history['val_loss']\n",
        "\n",
        "  num_epochs = len(fit_history.history['val_accuracy'])\n",
        "  x_range = range(num_epochs)\n",
        "  \n",
        "  acc_lower_range = math.floor(min(train_acc + val_acc)/0.05) * 0.05\n",
        "  acc_upper_range = math.ceil((max(train_acc + val_acc)+0.05)/0.05) * 0.05\n",
        "  loss_lower_range = math.floor(min(train_loss + val_loss)/0.05) * 0.05\n",
        "  loss_upper_range = math.ceil((max(train_loss + val_loss)+0.05)/0.05) * 0.05\n",
        "\n",
        "  #Plot the training and accuracy values over the number of epochs \n",
        "  plt.figure(figsize=(10, 8))\n",
        "  plt.subplot(1, 2, 1)\n",
        "  plt.plot(x_range, train_acc, label='Training Accuracy')\n",
        "  plt.plot(x_range, val_acc, label='Validation Accuracy')\n",
        "  plt.legend(loc='lower right')\n",
        "  plt.title('Training and Validation Accuracy')\n",
        "  plt.xticks(np.arange(min(x_range), max(x_range)+1, 5))\n",
        "  plt.yticks(np.arange(acc_lower_range, acc_upper_range, 0.05))\n",
        "\n",
        "  #Plot the training and accuracy loss over the number of epochs \n",
        "  plt.subplot(1, 2, 2)\n",
        "  plt.plot(x_range, train_loss, label='Training Loss')\n",
        "  plt.plot(x_range, val_loss, label='Validation Loss')\n",
        "  plt.legend(loc='upper right')\n",
        "  plt.title('Training and Validation Loss')\n",
        "  plt.xticks(np.arange(min(x_range), max(x_range)+1, 5))\n",
        "  plt.yticks(np.arange(loss_lower_range, loss_upper_range, 0.05))\n",
        "  \n",
        "  plt.show()"
      ],
      "metadata": {
        "id": "_kfGvrxgkBeL"
      },
      "execution_count": null,
      "outputs": []
    },
    {
      "cell_type": "markdown",
      "source": [
        "# Model\n",
        "The layers of the model are defined, starting with rescaling the data to be within the range [0,1], followed by 3 pairs of convolution-max pooling layers, and then ending with global averag pooling, dense and softmax layers."
      ],
      "metadata": {
        "id": "3Io2ZoW8eiDC"
      }
    },
    {
      "cell_type": "markdown",
      "source": [
        "Note that \n",
        "<br> 1) the inputs to convolutional layers are padded to ensure input and output are of the same size \n",
        "<br> 2) convolution layers are implemented with ReLU activation \n",
        "<br> 3) the Dense FC layer is implemented with tanh activation\n",
        "<br> 4) the weights of each convolutional layers are initialized with He Uniform. "
      ],
      "metadata": {
        "id": "-UGj_Jke5_25"
      }
    },
    {
      "cell_type": "code",
      "source": [
        "num_classes = len(class_names)\n",
        "\n",
        "model = Sequential([\n",
        "  layers.Rescaling(1./255, input_shape=(128, 128, 3)),\n",
        "  layers.Conv2D(32, 3, padding='same', activation='relu', kernel_initializer = 'he_uniform'),         \n",
        "  layers.MaxPooling2D(),\n",
        "  layers.Conv2D(64, 3, padding='same', activation='relu', kernel_initializer = 'he_uniform'),\n",
        "  layers.MaxPooling2D(),\n",
        "  layers.Conv2D(128, 3, padding='same', activation='relu', kernel_initializer = 'he_uniform'),\n",
        "  layers.MaxPooling2D(),\n",
        "  layers.GlobalAveragePooling2D(),\n",
        "  layers.Dense(128, activation='tanh'),\n",
        "  layers.Dense(num_classes, activation ='softmax')\n",
        "])"
      ],
      "metadata": {
        "id": "tGrinDiq44Qz"
      },
      "execution_count": null,
      "outputs": []
    },
    {
      "cell_type": "markdown",
      "source": [
        "The learning rate decay function is defined as follows:"
      ],
      "metadata": {
        "id": "xADlnk0BeiDK"
      }
    },
    {
      "cell_type": "code",
      "source": [
        "def exp_decay(epoch, lr):\n",
        "  if epoch < 5:                         #first 5 epochs no decay\n",
        "    return lr\n",
        "  elif epoch <=10:                      #6-10 epochs: decay with exp(-0.1)\n",
        "    return lr*tf.math.exp(-0.1)\n",
        "  elif epoch <=16:                      #10-16 epochs: decay with exp(-0.15)\n",
        "    return lr*tf.math.exp(-0.15)\n",
        "  else:                                 #17 epochs onward: decay with exp(-0.2)\n",
        "    return lr*tf.math.exp(-0.2)\n",
        "\n",
        "#implemented via a learning rate scheduler callback during the training period\n",
        "lrate = LearningRateScheduler(exp_decay)"
      ],
      "metadata": {
        "id": "etEmkqdh5raL"
      },
      "execution_count": null,
      "outputs": []
    },
    {
      "cell_type": "markdown",
      "source": [
        "The model is compiled as follows. Label smoothing is used in calculating the cross-entropy loss: the correct class label is given a confidence of 0.82 and the other class labels are given confidence of 0.02."
      ],
      "metadata": {
        "id": "EuIcwH5seiDM"
      }
    },
    {
      "cell_type": "code",
      "source": [
        "model.compile(\n",
        "    loss=tf.losses.CategoricalCrossentropy(label_smoothing = 0.2),\n",
        "    optimizer=tf.keras.optimizers.Adam(learning_rate=0.0028),\n",
        "    metrics=['accuracy']\n",
        "  )"
      ],
      "metadata": {
        "id": "5I8veGnI5vTC"
      },
      "execution_count": null,
      "outputs": []
    },
    {
      "cell_type": "markdown",
      "source": [
        "The model is then trained for 23 epochs and the training period is also timed for how long it takes."
      ],
      "metadata": {
        "id": "KTJmMRRnmFUe"
      }
    },
    {
      "cell_type": "code",
      "source": [
        "epochs = 23\n",
        "\n",
        "start = time.time()\n",
        "history = model.fit(\n",
        "    train_ds,\n",
        "    validation_data = val_ds,\n",
        "    epochs = epochs,\n",
        "    callbacks = [lrate]\n",
        ")\n",
        "end = time.time()"
      ],
      "metadata": {
        "colab": {
          "base_uri": "https://localhost:8080/"
        },
        "id": "hcSQXjCy5xuf",
        "outputId": "45a6cc6b-d210-4442-9eb9-a165eaf192c7"
      },
      "execution_count": null,
      "outputs": [
        {
          "output_type": "stream",
          "name": "stdout",
          "text": [
            "Epoch 1/23\n",
            "233/233 [==============================] - 6s 19ms/step - loss: 2.0362 - accuracy: 0.3390 - val_loss: 1.8161 - val_accuracy: 0.5078 - lr: 0.0028\n",
            "Epoch 2/23\n",
            "233/233 [==============================] - 4s 17ms/step - loss: 1.7536 - accuracy: 0.5341 - val_loss: 1.6612 - val_accuracy: 0.5960 - lr: 0.0028\n",
            "Epoch 3/23\n",
            "233/233 [==============================] - 5s 20ms/step - loss: 1.6537 - accuracy: 0.5935 - val_loss: 1.6416 - val_accuracy: 0.6014 - lr: 0.0028\n",
            "Epoch 4/23\n",
            "233/233 [==============================] - 4s 17ms/step - loss: 1.5737 - accuracy: 0.6364 - val_loss: 1.6014 - val_accuracy: 0.6003 - lr: 0.0028\n",
            "Epoch 5/23\n",
            "233/233 [==============================] - 4s 17ms/step - loss: 1.5075 - accuracy: 0.6784 - val_loss: 1.5140 - val_accuracy: 0.6799 - lr: 0.0028\n",
            "Epoch 6/23\n",
            "233/233 [==============================] - 4s 19ms/step - loss: 1.4673 - accuracy: 0.6976 - val_loss: 1.4688 - val_accuracy: 0.6928 - lr: 0.0025\n",
            "Epoch 7/23\n",
            "233/233 [==============================] - 4s 17ms/step - loss: 1.4106 - accuracy: 0.7343 - val_loss: 1.4606 - val_accuracy: 0.7074 - lr: 0.0023\n",
            "Epoch 8/23\n",
            "233/233 [==============================] - 4s 17ms/step - loss: 1.3794 - accuracy: 0.7491 - val_loss: 1.3921 - val_accuracy: 0.7375 - lr: 0.0021\n",
            "Epoch 9/23\n",
            "233/233 [==============================] - 4s 18ms/step - loss: 1.3321 - accuracy: 0.7795 - val_loss: 1.3820 - val_accuracy: 0.7439 - lr: 0.0019\n",
            "Epoch 10/23\n",
            "233/233 [==============================] - 5s 20ms/step - loss: 1.3157 - accuracy: 0.7909 - val_loss: 1.3437 - val_accuracy: 0.7768 - lr: 0.0017\n",
            "Epoch 11/23\n",
            "233/233 [==============================] - 4s 19ms/step - loss: 1.2795 - accuracy: 0.8092 - val_loss: 1.3342 - val_accuracy: 0.7762 - lr: 0.0015\n",
            "Epoch 12/23\n",
            "233/233 [==============================] - 4s 19ms/step - loss: 1.2520 - accuracy: 0.8239 - val_loss: 1.3569 - val_accuracy: 0.7671 - lr: 0.0013\n",
            "Epoch 13/23\n",
            "233/233 [==============================] - 4s 17ms/step - loss: 1.2320 - accuracy: 0.8370 - val_loss: 1.3092 - val_accuracy: 0.7870 - lr: 0.0011\n",
            "Epoch 14/23\n",
            "233/233 [==============================] - 4s 17ms/step - loss: 1.2152 - accuracy: 0.8493 - val_loss: 1.2976 - val_accuracy: 0.7913 - lr: 9.7983e-04\n",
            "Epoch 15/23\n",
            "233/233 [==============================] - 4s 18ms/step - loss: 1.1987 - accuracy: 0.8561 - val_loss: 1.3201 - val_accuracy: 0.7778 - lr: 8.4334e-04\n",
            "Epoch 16/23\n",
            "233/233 [==============================] - 4s 17ms/step - loss: 1.1802 - accuracy: 0.8696 - val_loss: 1.2767 - val_accuracy: 0.8085 - lr: 7.2587e-04\n",
            "Epoch 17/23\n",
            "233/233 [==============================] - 4s 17ms/step - loss: 1.1725 - accuracy: 0.8728 - val_loss: 1.2911 - val_accuracy: 0.8047 - lr: 6.2476e-04\n",
            "Epoch 18/23\n",
            "233/233 [==============================] - 4s 19ms/step - loss: 1.1572 - accuracy: 0.8842 - val_loss: 1.2777 - val_accuracy: 0.8144 - lr: 5.1151e-04\n",
            "Epoch 19/23\n",
            "233/233 [==============================] - 4s 17ms/step - loss: 1.1439 - accuracy: 0.8953 - val_loss: 1.2745 - val_accuracy: 0.8166 - lr: 4.1879e-04\n",
            "Epoch 20/23\n",
            "233/233 [==============================] - 4s 17ms/step - loss: 1.1373 - accuracy: 0.8992 - val_loss: 1.2737 - val_accuracy: 0.8133 - lr: 3.4288e-04\n",
            "Epoch 21/23\n",
            "233/233 [==============================] - 4s 19ms/step - loss: 1.1291 - accuracy: 0.9028 - val_loss: 1.2770 - val_accuracy: 0.8107 - lr: 2.8072e-04\n",
            "Epoch 22/23\n",
            "233/233 [==============================] - 4s 17ms/step - loss: 1.1232 - accuracy: 0.9084 - val_loss: 1.2647 - val_accuracy: 0.8187 - lr: 2.2984e-04\n",
            "Epoch 23/23\n",
            "233/233 [==============================] - 4s 17ms/step - loss: 1.1184 - accuracy: 0.9092 - val_loss: 1.2656 - val_accuracy: 0.8176 - lr: 1.8818e-04\n"
          ]
        }
      ]
    },
    {
      "cell_type": "code",
      "source": [
        "plot_accuracy_loss(history)\n",
        "print(\"Test accuracy: \", model.evaluate(test_ds)[1])\n",
        "print(\"Time taken: \", end-start)"
      ],
      "metadata": {
        "colab": {
          "base_uri": "https://localhost:8080/",
          "height": 552
        },
        "id": "i_UaAmJH6NA2",
        "outputId": "189f4bf5-f63a-4483-9183-b9843ebfb2e6"
      },
      "execution_count": null,
      "outputs": [
        {
          "output_type": "display_data",
          "data": {
            "text/plain": [
              "<Figure size 720x576 with 2 Axes>"
            ],
            "image/png": "[encoded data removed]"
          },
          "metadata": {}
        },
        {
          "output_type": "stream",
          "name": "stdout",
          "text": [
            "121/121 [==============================] - 1s 8ms/step - loss: 1.2912 - accuracy: 0.8055\n",
            "Test accuracy:  0.805497944355011\n",
            "Time taken:  110.99663233757019\n"
          ]
        }
      ]
    },
    {
      "cell_type": "markdown",
      "source": [
        "The model achieves a validation accuracy of 0.8176 and a test accuracy of 0.8055. The validation curves also look fairly smooth, without running into overfitting (also supported by the closeness of validation and test accuracies)."
      ],
      "metadata": {
        "id": "mPgfjGZEkOfN"
      }
    }
  ],
  "metadata": {
    "accelerator": "GPU",
    "colab": {
      "provenance": [],
      "toc_visible": true
    },
    "gpuClass": "standard",
    "kernelspec": {
      "display_name": "Python 3",
      "name": "python3"
    },
    "language_info": {
      "name": "python"
    }
  },
  "nbformat": 4,
  "nbformat_minor": 0
}